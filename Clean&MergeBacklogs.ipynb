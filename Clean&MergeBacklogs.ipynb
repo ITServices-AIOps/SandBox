# -*- coding: utf-8 -*-

# Celda 1: Montar Google Drive
from google.colab import drive
drive.mount('/content/drive')

# Celda 2: Importar Bibliotecas
import pandas as pd
import numpy as np
import os # Para manejar rutas de archivo

print("Bibliotecas importadas y Drive montado.")
