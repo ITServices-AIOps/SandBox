import pandas as pd
import numpy as np

# Cargar los datos
df_ordenes = pd.read_csv("Backlog procesar ordenes de trabajo 2025.xls - ManageEngine Report Framework.csv")
df_incidentes = pd.read_csv("Backlog procesar Incidentes 2025.xls - ManageEngine Report Framework.csv")
df_cambios = pd.read_csv("Backlog procesar cambios 2025.xls - ManageEngine Report Framework.csv")

# Mapeo de columnas
column_mapping = {
    'Asunto': 'Descripcion_Tarea',
    'Resolución': 'Descripcion_Tarea',
    'Titulo': 'Descripcion_Tarea',
    'Descripcion': 'Descripcion_Tarea',
    'ID de la solicitud': 'ID',
    'ID_de_cambio': 'ID',
    'Tipo de ticket': 'Tipo_Ticket'
}

# Renombrar columnas
df_ordenes = df_ordenes.rename(columns=column_mapping, errors='ignore')
df_incidentes = df_incidentes.rename(columns=column_mapping, errors='ignore')
df_cambios = df_cambios.rename(columns=column_mapping, errors='ignore')

# Seleccionar columnas
ordenes_cols = ['ID', 'Tipo_Ticket', 'Descripcion_Tarea', 'Técnico', 'Grupo de soporte asignado']
incidentes_cols = ['ID', 'Tipo_Ticket', 'Descripcion_Tarea', 'Técnico', 'Grupo de soporte asignado']
cambios_cols = ['ID', 'Descripcion_Tarea', 'Tipodecambio', 'Administrador_de_cambios', 'Implementador']

df_ordenes = df_ordenes[ordenes_cols]
df_incidentes = df_incidentes[incidentes_cols]

df_cambios = df_cambios.rename(columns={'Tipodecambio': 'Tipo_Ticket', 'Administrador_de_cambios': 'Técnico', 'Implementador': 'Grupo de soporte asignado'})
if 'Grupo de soporte asignado' not in df_cambios.columns:
    df_cambios['Grupo de soporte asignado'] = np.nan

df_cambios['Tipo_Ticket'] = 'Cambio' # Asignar 'Cambio' a Tipo_Ticket
df_cambios['Técnico'] = df_cambios['Técnico'].fillna(df_cambios['Grupo de soporte asignado'])
df_cambios = df_cambios[['ID', 'Tipo_Ticket', 'Descripcion_Tarea', 'Técnico']]

df_cambios = df_cambios[cambios_cols]

# Unificar DataFrames
df_unificado = pd.concat([df_ordenes, df_incidentes, df_cambios], ignore_index=True)

# Limpiar datos
df_unificado['Descripcion_Tarea'] = df_unificado['Descripcion_Tarea'].fillna('').str.lower().str.strip()
df_unificado = df_unificado.drop_duplicates()

# Analizar frecuencia
task_frequency = df_unificado['Descripcion_Tarea'].value_counts().reset_index()
task_frequency.columns = ['Descripcion_Tarea', 'Frecuencia']

repetitive_tasks = task_frequency[task_frequency['Frecuencia'] > 1].sort_values(by='Frecuencia', ascending=False)
print("Tareas Repetitivas:")
print(repetitive_tasks.head(20).to_markdown(index=False, numalign="left", stralign="left"))

# Categorizar tareas (Opcional)
def categorize_task(task):
    task = task.lower()
    if "respaldo" in task:
        return "Respaldo y Recuperación"
    elif "reporte" in task or "monitoreo" in task or "alertamiento" in task:
        return "Monitoreo y Reporte"
    elif "mantenimiento" in task or "actualización" in task or "parche" in task:
        return "Mantenimiento y Actualización"
    elif "depura" in task or "limpieza" in task:
        return "Limpieza y Optimización"
    elif "acceso" in task or "permiso" in task or "usuario" in task:
        return "Gestión de Accesos"
    elif "servidor" in task or "vm" in task or "instancia" in task or "nodo" in task:
        return "Gestión de Servidores"
    elif "batch" in task or "control-m" in task or "query" in task or "shell" in task:
        return "Procesamiento Batch y Scripts"
    elif "cliente" in task or "atención" in task or "solicitud" in task:
        return "Atención al Cliente"
    elif "equipo" in task or "agente" in task or "sentinel" in task:
        return "Gestión de Equipos"
    else:
        return "Otras Tareas"

df_unificado['Naturaleza_Tarea'] = df_unificado['Descripcion_Tarea'].apply(categorize_task)

print("\nAnálisis de Tareas por Categoría:")
print(df_unificado['Naturaleza_Tarea'].value_counts().to_markdown(numalign="left", stralign="left"))
